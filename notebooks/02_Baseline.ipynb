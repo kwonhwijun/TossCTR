{
 "cells": [
  {
   "cell_type": "code",
   "execution_count": null,
   "id": "59931702",
   "metadata": {},
   "outputs": [],
   "source": [
    "import pandas as pd\n",
    "import numpy as numpy\n",
    "import os\n",
    "import random\n",
    "\n",
    "from sklearn.model_selection import train_test_split\n",
    "from tqdm import tqdm\n",
    "\n",
    "pd.set_option('display.max_rows', 200)"
   ]
  },
  {
   "cell_type": "markdown",
   "id": "e2606f3d",
   "metadata": {},
   "source": [
    "### Data Load"
   ]
  },
  {
   "cell_type": "code",
   "execution_count": 6,
   "id": "3de06f23",
   "metadata": {},
   "outputs": [],
   "source": [
    "import duckdb\n",
    "train_df = duckdb.query('''\n",
    "    SELECT *\n",
    "    FROM '../data/raw/train.parquet'\n",
    "    LIMIT 20000\n",
    "'''\n",
    ").to_df()\n",
    "\n",
    "test_df = duckdb.query('''\n",
    "    SELECT *\n",
    "    FROM '../data/raw/test.parquet'\n",
    "    LIMIT 20000\n",
    "'''\n",
    ").to_df()\n",
    "\n",
    "data_df = pd.concat([train_df, test_df], ignore_index = True)"
   ]
  },
  {
   "cell_type": "markdown",
   "id": "71fc0693",
   "metadata": {},
   "source": [
    "##"
   ]
  },
  {
   "cell_type": "markdown",
   "id": "94be2d49",
   "metadata": {},
   "source": [
    "### Data Down-Sampling"
   ]
  },
  {
   "cell_type": "code",
   "execution_count": 13,
   "id": "d7ca4b8b",
   "metadata": {},
   "outputs": [
    {
     "name": "stdout",
     "output_type": "stream",
     "text": [
      "gender             2\n",
      "age_group          8\n",
      "inventory_id      18\n",
      "day_of_week        1\n",
      "hour              24\n",
      "                ... \n",
      "history_b_27    4111\n",
      "history_b_28    4191\n",
      "history_b_29    3806\n",
      "history_b_30    7197\n",
      "clicked            2\n",
      "Length: 119, dtype: int64\n"
     ]
    }
   ],
   "source": [
    "print(train_df.nunique())"
   ]
  },
  {
   "cell_type": "markdown",
   "id": "86a9d93d",
   "metadata": {},
   "source": [
    "Preprocessing"
   ]
  },
  {
   "cell_type": "code",
   "execution_count": 7,
   "id": "61b1e063",
   "metadata": {},
   "outputs": [],
   "source": [
    "\n",
    "\n",
    "sparse_features = ['gender', 'age_group' , 'inventory_id', 'day_of_week', 'hour']\n",
    "dense_features = [\n",
    "    col for col in data_df.columns\n",
    "    if col.startswith('l_feat') or col.startswith('history_')\n",
    "]\n",
    "sequence_features = ['seq']\n",
    "target = ['clicked']"
   ]
  },
  {
   "cell_type": "code",
   "execution_count": 9,
   "id": "0fc36aec",
   "metadata": {},
   "outputs": [],
   "source": [
    "from sklearn.preprocessing import LabelEncoder, StandardScaler\n",
    "\n",
    "# 범주형 피처\n",
    "for feat in sparse_features:\n",
    "    lbe = LabelEncoder()\n",
    "    data_df[feat] = lbe.fit_transform(data_df[feat])\n",
    "\n",
    "# 수치형\n",
    "scaler = StandardScaler()\n",
    "train_df[dense_features] = scaler.fit_transform(train_df[dense_features])\n",
    "test_df[dense_features] = scaler.transform(test_df[dense_features])\n",
    "\n",
    "# 시퀀스\n",
    "\n"
   ]
  },
  {
   "cell_type": "markdown",
   "id": "e223a8a2",
   "metadata": {},
   "source": [
    "### Data Column Setting"
   ]
  },
  {
   "cell_type": "markdown",
   "id": "77276ecc",
   "metadata": {},
   "source": [
    "### Define Custom Dataset"
   ]
  }
 ],
 "metadata": {
  "kernelspec": {
   "display_name": "venv",
   "language": "python",
   "name": "python3"
  },
  "language_info": {
   "codemirror_mode": {
    "name": "ipython",
    "version": 3
   },
   "file_extension": ".py",
   "mimetype": "text/x-python",
   "name": "python",
   "nbconvert_exporter": "python",
   "pygments_lexer": "ipython3",
   "version": "3.13.5"
  }
 },
 "nbformat": 4,
 "nbformat_minor": 5
}
