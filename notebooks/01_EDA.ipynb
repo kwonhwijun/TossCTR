{
 "cells": [
  {
   "cell_type": "code",
   "execution_count": 5,
   "id": "d27ef120",
   "metadata": {},
   "outputs": [],
   "source": [
    "import pandas as pd\n",
    "import numpy as np\n",
    "import os\n",
    "import random\n",
    "\n",
    "from sklearn.model_selection import train_test_split\n",
    "from tqdm import tqdm\n",
    "\n",
    "import torch\n",
    "import torch.nn as nn\n",
    "import torch.nn.functional as F\n",
    "import torch.optim as optim\n",
    "from torch.utils.data import Dataset, DataLoader, random_split"
   ]
  },
  {
   "cell_type": "code",
   "execution_count": 8,
   "id": "032e57cc",
   "metadata": {},
   "outputs": [],
   "source": [
    "import duckdb\n",
    "\n",
    "train_df = duckdb.query('''\n",
    "    SELECT *\n",
    "    FROM '../data/raw/train.parquet'\n",
    "    LIMIT 200000\n",
    "    '''\n",
    ").to_df()\n"
   ]
  },
  {
   "cell_type": "code",
   "execution_count": 7,
   "id": "cbdc47a4",
   "metadata": {},
   "outputs": [
    {
     "data": {
      "text/html": [
       "<div>\n",
       "<style scoped>\n",
       "    .dataframe tbody tr th:only-of-type {\n",
       "        vertical-align: middle;\n",
       "    }\n",
       "\n",
       "    .dataframe tbody tr th {\n",
       "        vertical-align: top;\n",
       "    }\n",
       "\n",
       "    .dataframe thead th {\n",
       "        text-align: right;\n",
       "    }\n",
       "</style>\n",
       "<table border=\"1\" class=\"dataframe\">\n",
       "  <thead>\n",
       "    <tr style=\"text-align: right;\">\n",
       "      <th></th>\n",
       "      <th>gender</th>\n",
       "      <th>age_group</th>\n",
       "      <th>inventory_id</th>\n",
       "      <th>day_of_week</th>\n",
       "      <th>hour</th>\n",
       "      <th>seq</th>\n",
       "      <th>l_feat_1</th>\n",
       "      <th>l_feat_2</th>\n",
       "      <th>l_feat_3</th>\n",
       "      <th>l_feat_4</th>\n",
       "      <th>...</th>\n",
       "      <th>history_b_22</th>\n",
       "      <th>history_b_23</th>\n",
       "      <th>history_b_24</th>\n",
       "      <th>history_b_25</th>\n",
       "      <th>history_b_26</th>\n",
       "      <th>history_b_27</th>\n",
       "      <th>history_b_28</th>\n",
       "      <th>history_b_29</th>\n",
       "      <th>history_b_30</th>\n",
       "      <th>clicked</th>\n",
       "    </tr>\n",
       "  </thead>\n",
       "  <tbody>\n",
       "    <tr>\n",
       "      <th>0</th>\n",
       "      <td>1.0</td>\n",
       "      <td>7.0</td>\n",
       "      <td>36</td>\n",
       "      <td>5</td>\n",
       "      <td>13</td>\n",
       "      <td>9,18,269,516,57,97,527,74,317,311,269,479,57,7...</td>\n",
       "      <td>1.0</td>\n",
       "      <td>2.0</td>\n",
       "      <td>1.0</td>\n",
       "      <td>23.0</td>\n",
       "      <td>...</td>\n",
       "      <td>0.070092</td>\n",
       "      <td>0.070092</td>\n",
       "      <td>0.011682</td>\n",
       "      <td>0.004673</td>\n",
       "      <td>0.087226</td>\n",
       "      <td>0.049843</td>\n",
       "      <td>0.015576</td>\n",
       "      <td>0.040498</td>\n",
       "      <td>0.051401</td>\n",
       "      <td>0</td>\n",
       "    </tr>\n",
       "    <tr>\n",
       "      <th>1</th>\n",
       "      <td>1.0</td>\n",
       "      <td>7.0</td>\n",
       "      <td>2</td>\n",
       "      <td>5</td>\n",
       "      <td>08</td>\n",
       "      <td>9,144,269,57,516,97,527,74,315,317,311,269,479...</td>\n",
       "      <td>2.0</td>\n",
       "      <td>2.0</td>\n",
       "      <td>3.0</td>\n",
       "      <td>17.0</td>\n",
       "      <td>...</td>\n",
       "      <td>0.072990</td>\n",
       "      <td>0.072990</td>\n",
       "      <td>0.012165</td>\n",
       "      <td>0.004866</td>\n",
       "      <td>0.045416</td>\n",
       "      <td>0.051904</td>\n",
       "      <td>0.016220</td>\n",
       "      <td>0.042172</td>\n",
       "      <td>0.026763</td>\n",
       "      <td>0</td>\n",
       "    </tr>\n",
       "    <tr>\n",
       "      <th>2</th>\n",
       "      <td>1.0</td>\n",
       "      <td>7.0</td>\n",
       "      <td>36</td>\n",
       "      <td>5</td>\n",
       "      <td>11</td>\n",
       "      <td>269,516,57,97,165,527,74,77,317,269,75,450,15,...</td>\n",
       "      <td>1.0</td>\n",
       "      <td>2.0</td>\n",
       "      <td>1.0</td>\n",
       "      <td>7.0</td>\n",
       "      <td>...</td>\n",
       "      <td>0.057177</td>\n",
       "      <td>0.057177</td>\n",
       "      <td>0.009530</td>\n",
       "      <td>0.003812</td>\n",
       "      <td>0.035577</td>\n",
       "      <td>0.081318</td>\n",
       "      <td>0.012706</td>\n",
       "      <td>0.033036</td>\n",
       "      <td>0.062898</td>\n",
       "      <td>0</td>\n",
       "    </tr>\n",
       "    <tr>\n",
       "      <th>3</th>\n",
       "      <td>1.0</td>\n",
       "      <td>8.0</td>\n",
       "      <td>37</td>\n",
       "      <td>5</td>\n",
       "      <td>11</td>\n",
       "      <td>269,57,516,21,214,269,561,214,269,561,247,516,...</td>\n",
       "      <td>2.0</td>\n",
       "      <td>2.0</td>\n",
       "      <td>2.0</td>\n",
       "      <td>7.0</td>\n",
       "      <td>...</td>\n",
       "      <td>0.100449</td>\n",
       "      <td>0.100449</td>\n",
       "      <td>0.016741</td>\n",
       "      <td>0.006697</td>\n",
       "      <td>0.062502</td>\n",
       "      <td>0.071430</td>\n",
       "      <td>0.022322</td>\n",
       "      <td>0.058037</td>\n",
       "      <td>0.073659</td>\n",
       "      <td>0</td>\n",
       "    </tr>\n",
       "    <tr>\n",
       "      <th>4</th>\n",
       "      <td>2.0</td>\n",
       "      <td>7.0</td>\n",
       "      <td>37</td>\n",
       "      <td>5</td>\n",
       "      <td>07</td>\n",
       "      <td>144,269,57,516,35,479,57,516,527,74,77,318,193...</td>\n",
       "      <td>2.0</td>\n",
       "      <td>2.0</td>\n",
       "      <td>3.0</td>\n",
       "      <td>24.0</td>\n",
       "      <td>...</td>\n",
       "      <td>0.064512</td>\n",
       "      <td>0.064512</td>\n",
       "      <td>0.010752</td>\n",
       "      <td>0.004301</td>\n",
       "      <td>0.040141</td>\n",
       "      <td>0.045875</td>\n",
       "      <td>0.014336</td>\n",
       "      <td>0.037274</td>\n",
       "      <td>0.023654</td>\n",
       "      <td>0</td>\n",
       "    </tr>\n",
       "    <tr>\n",
       "      <th>...</th>\n",
       "      <td>...</td>\n",
       "      <td>...</td>\n",
       "      <td>...</td>\n",
       "      <td>...</td>\n",
       "      <td>...</td>\n",
       "      <td>...</td>\n",
       "      <td>...</td>\n",
       "      <td>...</td>\n",
       "      <td>...</td>\n",
       "      <td>...</td>\n",
       "      <td>...</td>\n",
       "      <td>...</td>\n",
       "      <td>...</td>\n",
       "      <td>...</td>\n",
       "      <td>...</td>\n",
       "      <td>...</td>\n",
       "      <td>...</td>\n",
       "      <td>...</td>\n",
       "      <td>...</td>\n",
       "      <td>...</td>\n",
       "      <td>...</td>\n",
       "    </tr>\n",
       "    <tr>\n",
       "      <th>199995</th>\n",
       "      <td>1.0</td>\n",
       "      <td>8.0</td>\n",
       "      <td>37</td>\n",
       "      <td>4</td>\n",
       "      <td>08</td>\n",
       "      <td>9,269,57,516,74,527,318,77,452,207,51,452,49,2...</td>\n",
       "      <td>2.0</td>\n",
       "      <td>2.0</td>\n",
       "      <td>3.0</td>\n",
       "      <td>24.0</td>\n",
       "      <td>...</td>\n",
       "      <td>0.054981</td>\n",
       "      <td>0.054981</td>\n",
       "      <td>0.009163</td>\n",
       "      <td>0.003665</td>\n",
       "      <td>0.034210</td>\n",
       "      <td>0.039098</td>\n",
       "      <td>0.012218</td>\n",
       "      <td>0.031767</td>\n",
       "      <td>0.141111</td>\n",
       "      <td>0</td>\n",
       "    </tr>\n",
       "    <tr>\n",
       "      <th>199996</th>\n",
       "      <td>2.0</td>\n",
       "      <td>6.0</td>\n",
       "      <td>2</td>\n",
       "      <td>4</td>\n",
       "      <td>08</td>\n",
       "      <td>9,516,57,27,324,97,516,27,479,27,57,324,516,47...</td>\n",
       "      <td>2.0</td>\n",
       "      <td>2.0</td>\n",
       "      <td>3.0</td>\n",
       "      <td>1.0</td>\n",
       "      <td>...</td>\n",
       "      <td>0.213273</td>\n",
       "      <td>0.213273</td>\n",
       "      <td>0.035546</td>\n",
       "      <td>0.014218</td>\n",
       "      <td>0.132703</td>\n",
       "      <td>0.151661</td>\n",
       "      <td>0.047394</td>\n",
       "      <td>0.123224</td>\n",
       "      <td>0.078200</td>\n",
       "      <td>0</td>\n",
       "    </tr>\n",
       "    <tr>\n",
       "      <th>199997</th>\n",
       "      <td>1.0</td>\n",
       "      <td>7.0</td>\n",
       "      <td>36</td>\n",
       "      <td>4</td>\n",
       "      <td>13</td>\n",
       "      <td>57,516,74,527,317,269,311,479,57,74,315,315,47...</td>\n",
       "      <td>1.0</td>\n",
       "      <td>2.0</td>\n",
       "      <td>1.0</td>\n",
       "      <td>1.0</td>\n",
       "      <td>...</td>\n",
       "      <td>0.113346</td>\n",
       "      <td>0.113346</td>\n",
       "      <td>0.018891</td>\n",
       "      <td>0.007556</td>\n",
       "      <td>0.070526</td>\n",
       "      <td>0.080602</td>\n",
       "      <td>0.025188</td>\n",
       "      <td>0.065489</td>\n",
       "      <td>0.083124</td>\n",
       "      <td>0</td>\n",
       "    </tr>\n",
       "    <tr>\n",
       "      <th>199998</th>\n",
       "      <td>2.0</td>\n",
       "      <td>7.0</td>\n",
       "      <td>36</td>\n",
       "      <td>4</td>\n",
       "      <td>12</td>\n",
       "      <td>9,57,516,527,74,77,318,207,452,452,269,51,508,...</td>\n",
       "      <td>1.0</td>\n",
       "      <td>2.0</td>\n",
       "      <td>1.0</td>\n",
       "      <td>7.0</td>\n",
       "      <td>...</td>\n",
       "      <td>0.043650</td>\n",
       "      <td>0.043650</td>\n",
       "      <td>0.007275</td>\n",
       "      <td>0.002910</td>\n",
       "      <td>0.027160</td>\n",
       "      <td>0.031040</td>\n",
       "      <td>0.009700</td>\n",
       "      <td>0.025220</td>\n",
       "      <td>0.048012</td>\n",
       "      <td>0</td>\n",
       "    </tr>\n",
       "    <tr>\n",
       "      <th>199999</th>\n",
       "      <td>2.0</td>\n",
       "      <td>8.0</td>\n",
       "      <td>88</td>\n",
       "      <td>4</td>\n",
       "      <td>06</td>\n",
       "      <td>144,269,516,57,97,527,74,317,479,57,74,77,317,...</td>\n",
       "      <td>2.0</td>\n",
       "      <td>2.0</td>\n",
       "      <td>3.0</td>\n",
       "      <td>16.0</td>\n",
       "      <td>...</td>\n",
       "      <td>0.133929</td>\n",
       "      <td>0.133929</td>\n",
       "      <td>0.022321</td>\n",
       "      <td>0.008929</td>\n",
       "      <td>0.166667</td>\n",
       "      <td>0.095238</td>\n",
       "      <td>0.029762</td>\n",
       "      <td>0.077381</td>\n",
       "      <td>0.441966</td>\n",
       "      <td>1</td>\n",
       "    </tr>\n",
       "  </tbody>\n",
       "</table>\n",
       "<p>200000 rows × 119 columns</p>\n",
       "</div>"
      ],
      "text/plain": [
       "       gender age_group inventory_id day_of_week hour  \\\n",
       "0         1.0       7.0           36           5   13   \n",
       "1         1.0       7.0            2           5   08   \n",
       "2         1.0       7.0           36           5   11   \n",
       "3         1.0       8.0           37           5   11   \n",
       "4         2.0       7.0           37           5   07   \n",
       "...       ...       ...          ...         ...  ...   \n",
       "199995    1.0       8.0           37           4   08   \n",
       "199996    2.0       6.0            2           4   08   \n",
       "199997    1.0       7.0           36           4   13   \n",
       "199998    2.0       7.0           36           4   12   \n",
       "199999    2.0       8.0           88           4   06   \n",
       "\n",
       "                                                      seq  l_feat_1  l_feat_2  \\\n",
       "0       9,18,269,516,57,97,527,74,317,311,269,479,57,7...       1.0       2.0   \n",
       "1       9,144,269,57,516,97,527,74,315,317,311,269,479...       2.0       2.0   \n",
       "2       269,516,57,97,165,527,74,77,317,269,75,450,15,...       1.0       2.0   \n",
       "3       269,57,516,21,214,269,561,214,269,561,247,516,...       2.0       2.0   \n",
       "4       144,269,57,516,35,479,57,516,527,74,77,318,193...       2.0       2.0   \n",
       "...                                                   ...       ...       ...   \n",
       "199995  9,269,57,516,74,527,318,77,452,207,51,452,49,2...       2.0       2.0   \n",
       "199996  9,516,57,27,324,97,516,27,479,27,57,324,516,47...       2.0       2.0   \n",
       "199997  57,516,74,527,317,269,311,479,57,74,315,315,47...       1.0       2.0   \n",
       "199998  9,57,516,527,74,77,318,207,452,452,269,51,508,...       1.0       2.0   \n",
       "199999  144,269,516,57,97,527,74,317,479,57,74,77,317,...       2.0       2.0   \n",
       "\n",
       "        l_feat_3  l_feat_4  ...  history_b_22  history_b_23  history_b_24  \\\n",
       "0            1.0      23.0  ...      0.070092      0.070092      0.011682   \n",
       "1            3.0      17.0  ...      0.072990      0.072990      0.012165   \n",
       "2            1.0       7.0  ...      0.057177      0.057177      0.009530   \n",
       "3            2.0       7.0  ...      0.100449      0.100449      0.016741   \n",
       "4            3.0      24.0  ...      0.064512      0.064512      0.010752   \n",
       "...          ...       ...  ...           ...           ...           ...   \n",
       "199995       3.0      24.0  ...      0.054981      0.054981      0.009163   \n",
       "199996       3.0       1.0  ...      0.213273      0.213273      0.035546   \n",
       "199997       1.0       1.0  ...      0.113346      0.113346      0.018891   \n",
       "199998       1.0       7.0  ...      0.043650      0.043650      0.007275   \n",
       "199999       3.0      16.0  ...      0.133929      0.133929      0.022321   \n",
       "\n",
       "        history_b_25  history_b_26  history_b_27  history_b_28  history_b_29  \\\n",
       "0           0.004673      0.087226      0.049843      0.015576      0.040498   \n",
       "1           0.004866      0.045416      0.051904      0.016220      0.042172   \n",
       "2           0.003812      0.035577      0.081318      0.012706      0.033036   \n",
       "3           0.006697      0.062502      0.071430      0.022322      0.058037   \n",
       "4           0.004301      0.040141      0.045875      0.014336      0.037274   \n",
       "...              ...           ...           ...           ...           ...   \n",
       "199995      0.003665      0.034210      0.039098      0.012218      0.031767   \n",
       "199996      0.014218      0.132703      0.151661      0.047394      0.123224   \n",
       "199997      0.007556      0.070526      0.080602      0.025188      0.065489   \n",
       "199998      0.002910      0.027160      0.031040      0.009700      0.025220   \n",
       "199999      0.008929      0.166667      0.095238      0.029762      0.077381   \n",
       "\n",
       "        history_b_30  clicked  \n",
       "0           0.051401        0  \n",
       "1           0.026763        0  \n",
       "2           0.062898        0  \n",
       "3           0.073659        0  \n",
       "4           0.023654        0  \n",
       "...              ...      ...  \n",
       "199995      0.141111        0  \n",
       "199996      0.078200        0  \n",
       "199997      0.083124        0  \n",
       "199998      0.048012        0  \n",
       "199999      0.441966        1  \n",
       "\n",
       "[200000 rows x 119 columns]"
      ]
     },
     "execution_count": 7,
     "metadata": {},
     "output_type": "execute_result"
    }
   ],
   "source": [
    "duck_train"
   ]
  },
  {
   "cell_type": "markdown",
   "id": "db0b6f13",
   "metadata": {},
   "source": [
    "### Clicked"
   ]
  },
  {
   "cell_type": "code",
   "execution_count": 12,
   "id": "4178123c",
   "metadata": {},
   "outputs": [
    {
     "data": {
      "text/plain": [
       "clicked\n",
       "0    196041\n",
       "1      3959\n",
       "Name: count, dtype: int64"
      ]
     },
     "execution_count": 12,
     "metadata": {},
     "output_type": "execute_result"
    }
   ],
   "source": [
    "train_df['clicked'].value_counts()\n"
   ]
  },
  {
   "cell_type": "markdown",
   "id": "edee169a",
   "metadata": {},
   "source": []
  },
  {
   "cell_type": "markdown",
   "id": "7ce20e78",
   "metadata": {},
   "source": [
    "### seq"
   ]
  },
  {
   "cell_type": "markdown",
   "id": "5454f9b7",
   "metadata": {},
   "source": [
    "## Feat"
   ]
  },
  {
   "cell_type": "markdown",
   "id": "4c14b3dc",
   "metadata": {},
   "source": [
    "### l_feat_1"
   ]
  },
  {
   "cell_type": "code",
   "execution_count": null,
   "id": "affe7b15",
   "metadata": {},
   "outputs": [
    {
     "data": {
      "text/plain": [
       "l_feat_1\n",
       "2.0    169682\n",
       "1.0     30318\n",
       "Name: count, dtype: int64"
      ]
     },
     "execution_count": 10,
     "metadata": {},
     "output_type": "execute_result"
    }
   ],
   "source": [
    "train_df['l_feat_1'].value_counts()"
   ]
  },
  {
   "cell_type": "code",
   "execution_count": 13,
   "id": "58c65537",
   "metadata": {},
   "outputs": [
    {
     "data": {
      "text/plain": [
       "l_feat_1\n",
       "1.0    0.014315\n",
       "2.0    0.020774\n",
       "Name: clicked, dtype: float64"
      ]
     },
     "execution_count": 13,
     "metadata": {},
     "output_type": "execute_result"
    }
   ],
   "source": [
    "train_df.groupby('l_feat_1')['clicked'].mean()"
   ]
  },
  {
   "cell_type": "markdown",
   "id": "ea4fc787",
   "metadata": {},
   "source": [
    "### l_feat_2"
   ]
  },
  {
   "cell_type": "code",
   "execution_count": 14,
   "id": "1ce78f80",
   "metadata": {},
   "outputs": [
    {
     "data": {
      "text/plain": [
       "l_feat_2\n",
       "2.0    166969\n",
       "1.0     32547\n",
       "Name: count, dtype: int64"
      ]
     },
     "execution_count": 14,
     "metadata": {},
     "output_type": "execute_result"
    }
   ],
   "source": [
    "train_df['l_feat_2'].value_counts()"
   ]
  },
  {
   "cell_type": "code",
   "execution_count": 15,
   "id": "a59ca700",
   "metadata": {},
   "outputs": [
    {
     "data": {
      "text/plain": [
       "l_feat_2\n",
       "1.0    0.019295\n",
       "2.0    0.019926\n",
       "Name: clicked, dtype: float64"
      ]
     },
     "execution_count": 15,
     "metadata": {},
     "output_type": "execute_result"
    }
   ],
   "source": [
    "train_df.groupby('l_feat_2')['clicked'].mean()"
   ]
  },
  {
   "cell_type": "markdown",
   "id": "d2afb5fe",
   "metadata": {},
   "source": [
    "# History"
   ]
  },
  {
   "cell_type": "markdown",
   "id": "36b078ae",
   "metadata": {},
   "source": [
    "### history_b_22"
   ]
  },
  {
   "cell_type": "code",
   "execution_count": null,
   "id": "681ee467",
   "metadata": {},
   "outputs": [
    {
     "data": {
      "text/plain": [
       "history_b_22\n",
       "2.647062    191\n",
       "2.500002    190\n",
       "3.214287    186\n",
       "1.698111    183\n",
       "5.000004    181\n",
       "           ... \n",
       "0.084069      1\n",
       "0.391869      1\n",
       "0.162306      1\n",
       "0.056907      1\n",
       "0.017469      1\n",
       "Name: count, Length: 6263, dtype: int64"
      ]
     },
     "execution_count": 16,
     "metadata": {},
     "output_type": "execute_result"
    }
   ],
   "source": [
    "train_df['history_b_22']"
   ]
  },
  {
   "cell_type": "code",
   "execution_count": null,
   "id": "859f90d6",
   "metadata": {},
   "outputs": [],
   "source": []
  }
 ],
 "metadata": {
  "kernelspec": {
   "display_name": "venv",
   "language": "python",
   "name": "python3"
  },
  "language_info": {
   "codemirror_mode": {
    "name": "ipython",
    "version": 3
   },
   "file_extension": ".py",
   "mimetype": "text/x-python",
   "name": "python",
   "nbconvert_exporter": "python",
   "pygments_lexer": "ipython3",
   "version": "3.13.5"
  }
 },
 "nbformat": 4,
 "nbformat_minor": 5
}
