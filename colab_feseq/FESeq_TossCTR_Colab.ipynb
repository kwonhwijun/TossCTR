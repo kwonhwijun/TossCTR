{
  "cells": [
    {
      "cell_type": "markdown",
      "metadata": {},
      "source": [
        "# FESeq Model Training on TossCTR Dataset\n",
        "\n",
        "이 노트북은 TossCTR 데이터셋에서 FESeq 모델을 훈련하기 위한 Colab 환경을 제공합니다.\n",
        "\n",
        "## 📋 실행 순서\n",
        "1. 환경 설정 및 패키지 설치\n",
        "2. 코드 및 데이터 업로드\n",
        "3. 데이터 전처리\n",
        "4. FESeq 모델 훈련\n",
        "5. 결과 분석\n"
      ]
    },
    {
      "cell_type": "markdown",
      "metadata": {},
      "source": [
        "## 🚀 Step 1: 환경 설정 및 GPU 확인\n"
      ]
    },
    {
      "cell_type": "code",
      "execution_count": null,
      "metadata": {},
      "outputs": [],
      "source": [
        "# GPU 사용 가능 여부 확인\n",
        "import torch\n",
        "print(f\"CUDA available: {torch.cuda.is_available()}\")\n",
        "if torch.cuda.is_available():\n",
        "    print(f\"GPU device: {torch.cuda.get_device_name(0)}\")\n",
        "    print(f\"GPU memory: {torch.cuda.get_device_properties(0).total_memory / 1e9:.1f} GB\")\n",
        "else:\n",
        "    print(\"⚠️  GPU not available, using CPU\")\n"
      ]
    },
    {
      "cell_type": "markdown",
      "metadata": {},
      "source": [
        "## 📦 Step 2: 기본 패키지 설치\n"
      ]
    },
    {
      "cell_type": "code",
      "execution_count": null,
      "metadata": {},
      "outputs": [],
      "source": [
        "# 기본 패키지 설치\n",
        "%pip install pandas numpy scikit-learn PyYAML h5py tqdm pyarrow\n",
        "\n",
        "# PyTorch 설치 (GPU 버전)\n",
        "%pip install torch torchvision --index-url https://download.pytorch.org/whl/cu118\n"
      ]
    },
    {
      "cell_type": "markdown",
      "metadata": {},
      "source": [
        "## 📁 Step 3: 코드 업로드 및 설정\n",
        "\n",
        "**중요:** 아래 셀을 실행하기 전에 `colab_feseq` 폴더 전체를 압축(zip)해서 Colab에 업로드하세요.\n"
      ]
    },
    {
      "cell_type": "code",
      "execution_count": null,
      "metadata": {},
      "outputs": [],
      "source": [
        "# 파일 업로드\n",
        "from google.colab import files\n",
        "import zipfile\n",
        "import os\n",
        "\n",
        "print(\"📤 colab_feseq.zip 파일을 업로드하세요:\")\n",
        "uploaded = files.upload()\n",
        "\n",
        "# 압축 해제\n",
        "for filename in uploaded.keys():\n",
        "    if filename.endswith('.zip'):\n",
        "        print(f\"📂 압축 해제 중: {filename}\")\n",
        "        with zipfile.ZipFile(filename, 'r') as zip_ref:\n",
        "            zip_ref.extractall('.')\n",
        "        \n",
        "        # colab_feseq 디렉토리로 이동\n",
        "        if os.path.exists('colab_feseq'):\n",
        "            os.chdir('colab_feseq')\n",
        "            print(\"✅ colab_feseq 디렉토리로 이동 완료\")\n",
        "            break\n",
        "\n",
        "# 현재 디렉토리 구조 확인\n",
        "print(\"\\n📁 현재 디렉토리 구조:\")\n",
        "!ls -la\n"
      ]
    },
    {
      "cell_type": "markdown",
      "metadata": {},
      "source": [
        "## ⚙️ Step 4: FuxiCTR 환경 설정\n"
      ]
    },
    {
      "cell_type": "code",
      "execution_count": null,
      "metadata": {},
      "outputs": [],
      "source": [
        "# FuxiCTR 설치\n",
        "import sys\n",
        "import os\n",
        "\n",
        "# PYTHONPATH 설정\n",
        "current_dir = os.getcwd()\n",
        "if current_dir not in sys.path:\n",
        "    sys.path.insert(0, current_dir)\n",
        "\n",
        "os.environ['PYTHONPATH'] = current_dir\n",
        "print(f\"✅ PYTHONPATH: {current_dir}\")\n",
        "\n",
        "# setup.py를 통한 설치\n",
        "!python setup.py develop\n",
        "\n",
        "print(\"✅ FuxiCTR 환경 설정 완료\")\n"
      ]
    },
    {
      "cell_type": "markdown",
      "metadata": {},
      "source": [
        "## 🧠 Step 5: FESeq 모델 훈련 실행\n"
      ]
    },
    {
      "cell_type": "code",
      "execution_count": null,
      "metadata": {},
      "outputs": [],
      "source": [
        "# GPU 설정\n",
        "import torch\n",
        "gpu_id = 0 if torch.cuda.is_available() else -1\n",
        "print(f\"🎯 사용할 디바이스: {'GPU ' + str(gpu_id) if gpu_id >= 0 else 'CPU'}\")\n",
        "\n",
        "# FESeq 실험 실행\n",
        "!python run_feseq.py --expid FESeq_tossctr --gpu {gpu_id}\n"
      ]
    }
  ],
  "metadata": {
    "language_info": {
      "name": "python"
    }
  },
  "nbformat": 4,
  "nbformat_minor": 2
}
