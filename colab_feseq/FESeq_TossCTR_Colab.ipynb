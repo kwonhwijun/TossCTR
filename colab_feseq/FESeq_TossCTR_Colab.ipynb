{
  "cells": [
    {
      "cell_type": "markdown",
      "metadata": {},
      "source": [
        "# FESeq Model Training on TossCTR Dataset\n",
        "\n",
        "이 노트북은 TossCTR 데이터셋에서 FESeq 모델을 훈련하기 위한 Colab 환경을 제공합니다.\n",
        "\n",
        "## 📋 실행 순서\n",
        "1. 환경 설정 및 패키지 설치\n",
        "2. 코드 및 데이터 업로드\n",
        "3. 데이터 전처리\n",
        "4. FESeq 모델 훈련\n",
        "5. 결과 분석\n"
      ]
    },
    {
      "cell_type": "markdown",
      "metadata": {},
      "source": [
        "## 🚀 Step 1: 환경 설정 및 GPU 확인\n"
      ]
    },
    {
      "cell_type": "code",
      "execution_count": null,
      "metadata": {},
      "outputs": [],
      "source": [
        "# GPU 사용 가능 여부 확인\n",
        "import torch\n",
        "print(f\"CUDA available: {torch.cuda.is_available()}\")\n",
        "if torch.cuda.is_available():\n",
        "    print(f\"GPU device: {torch.cuda.get_device_name(0)}\")\n",
        "    print(f\"GPU memory: {torch.cuda.get_device_properties(0).total_memory / 1e9:.1f} GB\")\n",
        "else:\n",
        "    print(\"⚠️  GPU not available, using CPU\")\n"
      ]
    },
    {
      "cell_type": "markdown",
      "metadata": {},
      "source": [
        "## 📦 Step 2: 기본 패키지 설치\n"
      ]
    },
    {
      "cell_type": "code",
      "execution_count": null,
      "metadata": {},
      "outputs": [],
      "source": [
        "# 기본 패키지 설치\n",
        "%pip install pandas numpy scikit-learn PyYAML h5py tqdm pyarrow\n",
        "\n",
        "# PyTorch 설치 (GPU 버전)\n",
        "%pip install torch torchvision --index-url https://download.pytorch.org/whl/cu118\n"
      ]
    },
    {
      "cell_type": "markdown",
      "metadata": {},
      "source": [
        "## 📁 Step 3: GitHub에서 코드 클론\n"
      ]
    },
    {
      "cell_type": "code",
      "execution_count": null,
      "metadata": {},
      "outputs": [],
      "source": [
        "# GitHub에서 TossCTR 레포지토리 클론\n",
        "import os\n",
        "\n",
        "print(\"📥 GitHub에서 TossCTR 레포지토리를 클론합니다...\")\n",
        "!git clone https://github.com/kwonhwijun/TossCTR.git\n",
        "\n",
        "# colab_feseq 디렉토리로 이동\n",
        "print(\"📁 colab_feseq 디렉토리로 이동...\")\n",
        "%cd TossCTR/colab_feseq\n",
        "\n",
        "# 현재 디렉토리 구조 확인\n",
        "print(\"\\n📁 현재 디렉토리 구조:\")\n",
        "!ls -la\n",
        "\n",
        "# 중요한 파일들이 있는지 확인\n",
        "print(\"\\n🔍 중요 파일 확인:\")\n",
        "print(\"✅ run_feseq.py:\", \"존재\" if os.path.exists(\"run_feseq.py\") else \"❌ 없음\")\n",
        "print(\"✅ FESeq 모델:\", \"존재\" if os.path.exists(\"model_zoo/FESeq\") else \"❌ 없음\") \n",
        "print(\"✅ 데이터:\", \"존재\" if os.path.exists(\"data/tossctr\") else \"❌ 없음\")\n"
      ]
    },
    {
      "cell_type": "markdown",
      "metadata": {},
      "source": [
        "## ⚙️ Step 4: FuxiCTR 환경 설정\n"
      ]
    },
    {
      "cell_type": "code",
      "execution_count": null,
      "metadata": {},
      "outputs": [],
      "source": [
        "# FuxiCTR 설치\n",
        "import sys\n",
        "import os\n",
        "\n",
        "# PYTHONPATH 설정\n",
        "current_dir = os.getcwd()\n",
        "if current_dir not in sys.path:\n",
        "    sys.path.insert(0, current_dir)\n",
        "\n",
        "os.environ['PYTHONPATH'] = current_dir\n",
        "print(f\"✅ PYTHONPATH: {current_dir}\")\n",
        "\n",
        "# setup.py 설치 시도\n",
        "try:\n",
        "    print(\"📦 FuxiCTR 설치 중...\")\n",
        "    !python setup.py develop\n",
        "    print(\"✅ FuxiCTR 환경 설정 완료\")\n",
        "except Exception as e:\n",
        "    print(f\"⚠️  setup.py 설치 실패: {e}\")\n",
        "    print(\"📦 pip으로 대체 설치 시도...\")\n",
        "    %pip install -e .\n",
        "    print(\"✅ FuxiCTR 환경 설정 완료 (pip 방식)\")\n"
      ]
    },
    {
      "cell_type": "markdown",
      "metadata": {},
      "source": [
        "## 🧠 Step 5: FESeq 모델 훈련 실행\n"
      ]
    },
    {
      "cell_type": "code",
      "execution_count": null,
      "metadata": {},
      "outputs": [],
      "source": [
        "# 현재 디렉토리 확인\n",
        "import os\n",
        "print(f\"📍 현재 작업 디렉토리: {os.getcwd()}\")\n",
        "\n",
        "# 필수 파일들이 있는지 다시 한번 확인\n",
        "required_files = [\"run_feseq.py\", \"setup.py\", \"model_zoo/FESeq/run_expid.py\"]\n",
        "missing_files = []\n",
        "\n",
        "for file in required_files:\n",
        "    if os.path.exists(file):\n",
        "        print(f\"✅ {file}\")\n",
        "    else:\n",
        "        print(f\"❌ {file} - 없음\")\n",
        "        missing_files.append(file)\n",
        "\n",
        "if missing_files:\n",
        "    print(f\"\\n⚠️  다음 파일들이 없습니다: {missing_files}\")\n",
        "    print(\"디렉토리를 다시 확인하세요.\")\n",
        "else:\n",
        "    # GPU 설정\n",
        "    import torch\n",
        "    gpu_id = 0 if torch.cuda.is_available() else -1\n",
        "    print(f\"\\n🎯 사용할 디바이스: {'GPU ' + str(gpu_id) if gpu_id >= 0 else 'CPU'}\")\n",
        "    \n",
        "    # FESeq 실험 실행\n",
        "    print(\"\\n🚀 FESeq 실험을 시작합니다...\")\n",
        "    !python run_feseq.py --expid FESeq_tossctr --gpu {gpu_id}\n"
      ]
    },
    {
      "cell_type": "markdown",
      "metadata": {},
      "source": [
        "## 🔧 Step 6: 문제 해결 (필요시)\n"
      ]
    },
    {
      "cell_type": "code",
      "execution_count": null,
      "metadata": {},
      "outputs": [],
      "source": [
        "# 문제가 있을 경우 수동으로 디렉토리 확인 및 이동\n",
        "import os\n",
        "\n",
        "print(\"🔍 현재 위치와 파일 구조 확인:\")\n",
        "print(f\"현재 디렉토리: {os.getcwd()}\")\n",
        "\n",
        "# 가능한 위치들 확인\n",
        "possible_locations = [\n",
        "    \".\",\n",
        "    \"/content/TossCTR/colab_feseq\", \n",
        "    \"/content/TossCTR\",\n",
        "    \"/content\"\n",
        "]\n",
        "\n",
        "for location in possible_locations:\n",
        "    if os.path.exists(location):\n",
        "        print(f\"\\n📁 {location} 내용:\")\n",
        "        try:\n",
        "            files = os.listdir(location)\n",
        "            for f in files[:10]:  # 처음 10개만 출력\n",
        "                print(f\"  - {f}\")\n",
        "            if len(files) > 10:\n",
        "                print(f\"  ... 그외 {len(files)-10}개 파일\")\n",
        "        except:\n",
        "            print(f\"  접근 불가\")\n",
        "\n",
        "# run_feseq.py 파일 찾기\n",
        "print(f\"\\n🔍 run_feseq.py 파일 찾기:\")\n",
        "!find /content -name \"run_feseq.py\" 2>/dev/null\n",
        "\n",
        "# 올바른 디렉토리로 이동 (수동)\n",
        "# 위에서 run_feseq.py가 발견된 디렉토리로 이동하세요\n",
        "# 예: %cd /content/TossCTR/colab_feseq\n"
      ]
    },
    {
      "cell_type": "markdown",
      "metadata": {},
      "source": [
        "## 🔧 Step 6-2: 직접 실행 (대안 방법)\n"
      ]
    },
    {
      "cell_type": "code",
      "execution_count": null,
      "metadata": {},
      "outputs": [],
      "source": [
        "# run_feseq.py가 실패할 경우 직접 실행하는 방법\n",
        "import os\n",
        "import sys\n",
        "\n",
        "# 현재 디렉토리 확인\n",
        "print(f\"📍 현재 위치: {os.getcwd()}\")\n",
        "\n",
        "# FESeq 모델 디렉토리로 이동\n",
        "%cd model_zoo/FESeq\n",
        "\n",
        "# PYTHONPATH 재설정\n",
        "original_dir = \"/content/TossCTR/colab_feseq\"  # 또는 상위 디렉토리 \n",
        "current_dir = os.getcwd()\n",
        "\n",
        "if original_dir not in sys.path:\n",
        "    sys.path.insert(0, original_dir)\n",
        "if current_dir not in sys.path:\n",
        "    sys.path.insert(0, current_dir)\n",
        "\n",
        "os.environ['PYTHONPATH'] = f\"{original_dir}:{current_dir}\"\n",
        "print(f\"✅ PYTHONPATH: {os.environ['PYTHONPATH']}\")\n",
        "\n",
        "# 설정 파일 확인\n",
        "print(\"\\n🔍 설정 파일 확인:\")\n",
        "config_files = [\"config/dataset_config.yaml\", \"config/model_config.yaml\"]\n",
        "for config_file in config_files:\n",
        "    exists = \"✅\" if os.path.exists(config_file) else \"❌\"\n",
        "    print(f\"{exists} {config_file}\")\n",
        "\n",
        "# 데이터 파일 확인\n",
        "print(\"\\n🔍 데이터 파일 확인:\")\n",
        "data_dir = \"../../data/tossctr\"\n",
        "if os.path.exists(data_dir):\n",
        "    data_files = os.listdir(data_dir)\n",
        "    for file in data_files:\n",
        "        print(f\"✅ {file}\")\n",
        "else:\n",
        "    print(f\"❌ 데이터 디렉토리 없음: {data_dir}\")\n",
        "\n",
        "print(\"\\n🚀 직접 run_expid.py 실행 준비 완료!\")\n"
      ]
    },
    {
      "cell_type": "code",
      "execution_count": null,
      "metadata": {},
      "outputs": [],
      "source": [
        "# 최종 실행 - 직접 run_expid.py 호출\n",
        "import torch\n",
        "\n",
        "# GPU 설정\n",
        "gpu_id = 0 if torch.cuda.is_available() else -1\n",
        "print(f\"🎯 GPU ID: {gpu_id}\")\n",
        "\n",
        "# FESeq 실험 실행\n",
        "print(\"🚀 FESeq 실험 시작...\")\n",
        "!python run_expid.py --expid FESeq_tossctr --gpu {gpu_id}\n"
      ]
    }
  ],
  "metadata": {
    "language_info": {
      "name": "python"
    }
  },
  "nbformat": 4,
  "nbformat_minor": 2
}
